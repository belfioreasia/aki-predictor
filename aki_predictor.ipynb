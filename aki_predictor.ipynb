{
 "cells": [
  {
   "cell_type": "markdown",
   "metadata": {},
   "source": [
    "Belfiore Asia, CID:02129867\n",
    "\n",
    "MSc Advanced Computing, Spring Term, January 2025\n",
    "\n",
    "# **Acute Kidney Injury (AKI) Neural Network Predictor**"
   ]
  },
  {
   "cell_type": "code",
   "execution_count": null,
   "metadata": {},
   "outputs": [],
   "source": [
    "import numpy as np  # add to requirements.txt\n",
    "import torch    # add to requirements.txt\n",
    "import torch.nn as nn\n",
    "\n",
    "training_data_path = '/data/training.csv'\n",
    "test_data_path = '/data/test.csv'\n",
    "\n",
    "class Net(nn.Module):\n",
    "    def __init__(self):\n",
    "        super(Net, self).__init__()\n",
    "        self.fc1 = nn.Linear(2, 2)\n",
    "        self.fc2 = nn"
   ]
  }
 ],
 "metadata": {
  "kernelspec": {
   "display_name": "Python 3",
   "language": "python",
   "name": "python3"
  },
  "language_info": {
   "name": "python",
   "version": "3.12.1"
  }
 },
 "nbformat": 4,
 "nbformat_minor": 2
}
