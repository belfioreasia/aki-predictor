{
 "cells": [
  {
   "cell_type": "markdown",
   "metadata": {},
   "source": [
    "Belfiore Asia, CID:02129867\n",
    "\n",
    "MSc Advanced Computing, Spring Term, January 2025\n",
    "\n",
    "# **Acute Kidney Injury (AKI) Neural Network Predictor**"
   ]
  },
  {
   "cell_type": "code",
   "execution_count": 6,
   "metadata": {},
   "outputs": [],
   "source": [
    "import numpy as np  # add to requirements.txt\n",
    "import torch    # add to requirements.txt\n",
    "import torch.nn as nn\n",
    "from utils import *\n",
    "import matplotlib.pyplot as plt\n",
    "\n",
    "# 0. Define Local Data Paths\n",
    "train_data_path = 'data/training.csv'\n",
    "test_data_path = 'data/test.csv'\n",
    "\n",
    "# GPU availability check (MAC)\n",
    "# if torch.backends.mps.is_available():\n",
    "#     mps_device = torch.device(\"mps\")\n",
    "#     x = torch.ones(1, device=mps_device)\n",
    "#     print (x)\n",
    "# else:\n",
    "#     print (\"MPS device not found.\")\n",
    "\n",
    "\n",
    "def plot_accuracy(model, y_true, model_name, f3_score):\n",
    "    fig, ax = plt.subplots()\n",
    "    plt.hist(model, color='g', alpha=0.4, label='NHS')\n",
    "    if y_true is not None:\n",
    "        plt.hist(y_true, color='r', alpha=1, histtype='step', label='True Diagnosis')\n",
    "    plt.title(f\"Accuracy of {model_name} with F3 Score: {f3_score}\")\n",
    "    plt.xlabel(f'{model_name} Diagnosis')\n",
    "    plt.ylabel('Number of Patients')\n",
    "    plt.legend()"
   ]
  },
  {
   "cell_type": "code",
   "execution_count": null,
   "metadata": {},
   "outputs": [],
   "source": [
    "# Define Model Architecture\n",
    "class AkiPred(nn.Module):\n",
    "    \"\"\"\n",
    "        AkiPred Model\n",
    "        architecture:\n",
    "            input layer  \n",
    "            -> hidden layer 1 \n",
    "            -> dropout layer \n",
    "            -> hidden layer 2 \n",
    "            -> output layer\n",
    "    \"\"\"\n",
    "\n",
    "    def __init__(self, input_size, hidden_size):\n",
    "        \"\"\"\n",
    "            Define Model Architecture\n",
    "            inputs: \n",
    "                input_size: number of features in the input data\n",
    "                hidden_size: number of neurons in the hidden layers\n",
    "\n",
    "        \"\"\"\n",
    "        super().__init__()\n",
    "        self.input_size = input_size\n",
    "        self.hidden_size = hidden_size\n",
    "\n",
    "        # input layer ()\n",
    "        self.input_layer = nn.Linear(input_size, hidden_size)\n",
    "\n",
    "        # (2) hidden layers ()\n",
    "        self.hidden1 = nn.Linear(hidden_size, hidden_size)\n",
    "        # dropout layer\n",
    "        self.dropout = nn.Dropout(p=0.1)\n",
    "        self.hidden2 = nn.Linear(hidden_size, hidden_size)\n",
    "\n",
    "        # output layer ()\n",
    "        self.output_layer = nn.Linear(hidden_size, 1) \n",
    "\n",
    "        # activation functions #\n",
    "        # self.prelu = nn.PReLU(1)  # for hidden layers \n",
    "        self.relu = nn.ReLU()\n",
    "        self.sigmoid = nn.Sigmoid()  # for output layer \n",
    "\n",
    "    # model forward pass\n",
    "    def forward(self, x):\n",
    "        \"\"\"\n",
    "            AkiPred model: \n",
    "            inputs: \n",
    "                x: number of features in the input data\n",
    "        \"\"\"\n",
    "        # ReLU activation for input and hidden layers #\n",
    "        x = self.relu(self.input_layer(x)) \n",
    "        x = self.relu(self.hidden1(x)) \n",
    "        x = self.dropout(x)   # dropout layer\n",
    "        x = self.relu(self.hidden2(x)) \n",
    "        x = self.output_layer(x)\n",
    "        x = self.sigmoid(x) # squash output between 0 and 1\n",
    "        return x\n",
    "    \n",
    "    # def xavier_init(self, m):\n",
    "    #     if type(m) == nn.Linear:\n",
    "    #         torch.nn.init.xavier_uniform_(m.weight)\n",
    "\n",
    "\n",
    "# Save Model after training is complete\n",
    "def save_model(model):\n",
    "    \"\"\"\n",
    "        Save AkiPred Model\n",
    "        input: \n",
    "            model: AkiPred model\n",
    "        output: -\n",
    "    \"\"\"\n",
    "    model_path = 'aki_predictor/aki_predictor.pth'\n",
    "    try:\n",
    "        torch.save(model, model_path)\n",
    "        print(\"Saved PyTorch Model State to\", model_path)\n",
    "    except:\n",
    "        print(\"An error occurred.\")\n",
    "\n",
    "\n",
    "# Model Training Pipeline \n",
    "def train_model(model, train_data):\n",
    "    \"\"\"\n",
    "        Pipeline to Train AkiPred Model\n",
    "        input: \n",
    "            model: AkiPred model\n",
    "            train_data: training data \n",
    "                        (age, sex, blood tests cretinine results, time elapsed between tests)\n",
    "        output: -\n",
    "    \"\"\"\n",
    "    # set epochs and batch size\n",
    "    epochs_num = 100\n",
    "    batch_size = 250\n",
    "    model_train_loss = [] # save model loss for each epoch\n",
    "\n",
    "    # set model parameters\n",
    "    optimizer = torch.optim.Adam(model.parameters(), lr=0.001)  # Adam Optimizer\n",
    "    model_loss = nn.MSELoss()  # Mean Squared Error Loss\n",
    "    # model_loss = nn.BCELoss()  # Binary Cross Entropy Loss\n",
    "\n",
    "    dataloader_train = torch.utils.data.DataLoader(train_data, batch_size=batch_size, shuffle=True)\n",
    "    # train model \n",
    "    for epoch in range(epochs_num): \n",
    "        model.train()\n",
    "        for i, (sample, x, y) in enumerate(dataloader_train):\n",
    "            # inputs\n",
    "            inputs = x\n",
    "            # target outputs\n",
    "            target = y.unsqueeze(1) # to match model output shape [batch_size, 1]\n",
    "\n",
    "            # model outputs\n",
    "            outputs = model(inputs) \n",
    "            loss = model_loss(outputs, target)  # compute loss\n",
    "\n",
    "            # step + optimizer\n",
    "            optimizer.zero_grad()  \n",
    "            loss.backward()\n",
    "            optimizer.step()\n",
    "\n",
    "        model_train_loss.append(loss.item())\n",
    "        \n",
    "        if (epoch+1)%50 == 0:\n",
    "            # Get the loss for every 50th epoch\n",
    "            print(f'Epoch {epoch+1}/{epochs_num}: --> Loss = {loss.item()}')\n",
    "\n",
    "    # save_model(model)\n"
   ]
  },
  {
   "cell_type": "code",
   "execution_count": null,
   "metadata": {},
   "outputs": [],
   "source": [
    "# Model Training Pipeline \n",
    "def train_model(model, train_data):\n",
    "    # set epochs and batch size\n",
    "    epochs_num = 100\n",
    "    batch_size = 250\n",
    "    model_train_loss = [] # save model loss for each epoch\n",
    "\n",
    "    # set model parameters\n",
    "    optimizer = torch.optim.Adam(model.parameters(), lr=0.001)  # Adam Optimizer\n",
    "    model_loss = nn.MSELoss()  # Mean Squared Error Loss\n",
    "    # model_loss = nn.BCELoss()  # Binary Cross Entropy Loss\n",
    "\n",
    "    dataloader_train = torch.utils.data.DataLoader(train_data, batch_size=batch_size, shuffle=True)\n",
    "    # train model \n",
    "    for epoch in range(epochs_num): \n",
    "        model.train()\n",
    "        for i, (sample, x, y) in enumerate(dataloader_train):\n",
    "            # inputs\n",
    "            inputs = x\n",
    "            # target outputs\n",
    "            target = y.unsqueeze(1) # to match model output shape [batch_size, 1]\n",
    "\n",
    "            # model outputs\n",
    "            outputs = model(inputs) \n",
    "            loss = model_loss(outputs, target)  # compute loss\n",
    "\n",
    "            # step + optimizer\n",
    "            optimizer.zero_grad()  \n",
    "            loss.backward()\n",
    "            optimizer.step()\n",
    "\n",
    "        model_train_loss.append(loss.item())\n",
    "        \n",
    "        if (epoch+1)%50 == 0:\n",
    "            # Get the loss for every 50th epoch\n",
    "            print(f'Epoch {epoch+1}/{epochs_num}: --> Loss = {loss.item()}')\n",
    "\n",
    "    # save_model(model)\n"
   ]
  },
  {
   "cell_type": "code",
   "execution_count": 28,
   "metadata": {},
   "outputs": [],
   "source": [
    "from importlib import reload\n",
    "import numpy as np \n",
    "import utils\n",
    "reload(utils)\n",
    "\n",
    "from utils import *"
   ]
  },
  {
   "cell_type": "code",
   "execution_count": 76,
   "metadata": {},
   "outputs": [
    {
     "data": {
      "text/html": [
       "<div>\n",
       "<style scoped>\n",
       "    .dataframe tbody tr th:only-of-type {\n",
       "        vertical-align: middle;\n",
       "    }\n",
       "\n",
       "    .dataframe tbody tr th {\n",
       "        vertical-align: top;\n",
       "    }\n",
       "\n",
       "    .dataframe thead th {\n",
       "        text-align: right;\n",
       "    }\n",
       "</style>\n",
       "<table border=\"1\" class=\"dataframe\">\n",
       "  <thead>\n",
       "    <tr style=\"text-align: right;\">\n",
       "      <th></th>\n",
       "      <th>patient_features</th>\n",
       "      <th>aki_score</th>\n",
       "    </tr>\n",
       "  </thead>\n",
       "  <tbody>\n",
       "    <tr>\n",
       "      <th>0</th>\n",
       "      <td>[1, 18, 108.55, 102.56, 105.555, 1.05840483619...</td>\n",
       "      <td>0</td>\n",
       "    </tr>\n",
       "    <tr>\n",
       "      <th>1</th>\n",
       "      <td>[0, 58, 116.03, 104.46, 130.16, 1.110760099559...</td>\n",
       "      <td>0</td>\n",
       "    </tr>\n",
       "    <tr>\n",
       "      <th>2</th>\n",
       "      <td>[0, 39, 235.44, 174.31, 202.18, 1.350697034019...</td>\n",
       "      <td>0</td>\n",
       "    </tr>\n",
       "    <tr>\n",
       "      <th>3</th>\n",
       "      <td>[1, 27, 115.39, 91.14, 115.39, 1.2660741716041...</td>\n",
       "      <td>0</td>\n",
       "    </tr>\n",
       "    <tr>\n",
       "      <th>4</th>\n",
       "      <td>[0, 4, 67.83, 53.02, 71.41, 0.9498669654110069...</td>\n",
       "      <td>0</td>\n",
       "    </tr>\n",
       "    <tr>\n",
       "      <th>...</th>\n",
       "      <td>...</td>\n",
       "      <td>...</td>\n",
       "    </tr>\n",
       "    <tr>\n",
       "      <th>7296</th>\n",
       "      <td>[1, 55, 151.55, 151.55, 151.55, 1.0, 0]</td>\n",
       "      <td>0</td>\n",
       "    </tr>\n",
       "    <tr>\n",
       "      <th>7297</th>\n",
       "      <td>[1, 43, 133.05, 109.05, 130.885, 1.22008253094...</td>\n",
       "      <td>0</td>\n",
       "    </tr>\n",
       "    <tr>\n",
       "      <th>7298</th>\n",
       "      <td>[1, 26, 173.68, 173.68, 173.68, 1.0, 0]</td>\n",
       "      <td>0</td>\n",
       "    </tr>\n",
       "    <tr>\n",
       "      <th>7299</th>\n",
       "      <td>[1, 31, 152.99, 76.5, 114.745, 1.9998692810457...</td>\n",
       "      <td>1</td>\n",
       "    </tr>\n",
       "    <tr>\n",
       "      <th>7300</th>\n",
       "      <td>[1, 27, 118.12, 118.12, 118.12, 1.0, 0]</td>\n",
       "      <td>0</td>\n",
       "    </tr>\n",
       "  </tbody>\n",
       "</table>\n",
       "<p>7301 rows × 2 columns</p>\n",
       "</div>"
      ],
      "text/plain": [
       "                                       patient_features  aki_score\n",
       "0     [1, 18, 108.55, 102.56, 105.555, 1.05840483619...          0\n",
       "1     [0, 58, 116.03, 104.46, 130.16, 1.110760099559...          0\n",
       "2     [0, 39, 235.44, 174.31, 202.18, 1.350697034019...          0\n",
       "3     [1, 27, 115.39, 91.14, 115.39, 1.2660741716041...          0\n",
       "4     [0, 4, 67.83, 53.02, 71.41, 0.9498669654110069...          0\n",
       "...                                                 ...        ...\n",
       "7296            [1, 55, 151.55, 151.55, 151.55, 1.0, 0]          0\n",
       "7297  [1, 43, 133.05, 109.05, 130.885, 1.22008253094...          0\n",
       "7298            [1, 26, 173.68, 173.68, 173.68, 1.0, 0]          0\n",
       "7299  [1, 31, 152.99, 76.5, 114.745, 1.9998692810457...          1\n",
       "7300            [1, 27, 118.12, 118.12, 118.12, 1.0, 0]          0\n",
       "\n",
       "[7301 rows x 2 columns]"
      ]
     },
     "execution_count": 76,
     "metadata": {},
     "output_type": "execute_result"
    }
   ],
   "source": [
    "from importlib import reload\n",
    "import numpy as np \n",
    "import utils\n",
    "reload(utils)\n",
    "\n",
    "from utils import *\n",
    "\n",
    "# 1. Load Training and Testing Datasets\n",
    "train_data = prepare_dataset('data/training.csv', 'train')\n",
    "# test_data = prepare_dataset('data/test.csv', 'test')\n",
    "train_data"
   ]
  },
  {
   "cell_type": "code",
   "execution_count": null,
   "metadata": {},
   "outputs": [],
   "source": [
    "# 2. Train Model\n",
    "input_size = 10\n",
    "hidden_size = 64\n",
    "model = AkiPred(input_size, hidden_size)\n",
    "# model.apply(model.xavier_init)\n",
    "print(model, \"\\nTotal samples:\", len(train_data))"
   ]
  },
  {
   "cell_type": "code",
   "execution_count": null,
   "metadata": {},
   "outputs": [],
   "source": [
    "# 3. Make Predictions on Validation Dataset\n",
    "model_aki = model(input)"
   ]
  },
  {
   "cell_type": "code",
   "execution_count": null,
   "metadata": {},
   "outputs": [],
   "source": [
    "# 4. Compute F3 Score\n",
    "model_f3 = fbeta_score(train_data['aki_score'], model_aki, beta=3)"
   ]
  },
  {
   "cell_type": "code",
   "execution_count": null,
   "metadata": {},
   "outputs": [],
   "source": [
    "# 4.b. Plot Model Accuracy\n",
    "plot_accuracy(model_aki, train_data['aki_score'], 'Trained Model', model_f3)"
   ]
  },
  {
   "cell_type": "code",
   "execution_count": 77,
   "metadata": {},
   "outputs": [
    {
     "data": {
      "text/plain": [
       "(True     6754\n",
       " False     547\n",
       " Name: count, dtype: int64,\n",
       " 0.9262711319663174)"
      ]
     },
     "execution_count": 77,
     "metadata": {},
     "output_type": "execute_result"
    }
   ],
   "source": [
    "# 5 Compare to NHS algorithm\n",
    "# 5.a NHS Train Dataset Prediction \n",
    "nhs_aki = train_data['patient_features'].apply(lambda patient_record: nhs_aki_algo(patient_record))\n",
    "nhs_f3 = fbeta_score(train_data['aki_score'], nhs_aki, beta=3)\n",
    "(train_data['aki_score'] == nhs_aki).value_counts(), nhs_f3"
   ]
  },
  {
   "cell_type": "code",
   "execution_count": 70,
   "metadata": {},
   "outputs": [
    {
     "data": {
      "image/png": "[encoded data removed]",
      "text/plain": [
       "<Figure size 640x480 with 1 Axes>"
      ]
     },
     "metadata": {},
     "output_type": "display_data"
    }
   ],
   "source": [
    "# 5.b Plot Train Prediction Accuracy\n",
    "plot_accuracy(nhs_aki, train_data['aki_score'], 'NHS', nhs_f3)"
   ]
  },
  {
   "cell_type": "code",
   "execution_count": 58,
   "metadata": {},
   "outputs": [
    {
     "data": {
      "text/html": [
       "<div>\n",
       "<style scoped>\n",
       "    .dataframe tbody tr th:only-of-type {\n",
       "        vertical-align: middle;\n",
       "    }\n",
       "\n",
       "    .dataframe tbody tr th {\n",
       "        vertical-align: top;\n",
       "    }\n",
       "\n",
       "    .dataframe thead th {\n",
       "        text-align: right;\n",
       "    }\n",
       "</style>\n",
       "<table border=\"1\" class=\"dataframe\">\n",
       "  <thead>\n",
       "    <tr style=\"text-align: right;\">\n",
       "      <th></th>\n",
       "      <th>patient_features</th>\n",
       "      <th>aki_score</th>\n",
       "    </tr>\n",
       "  </thead>\n",
       "  <tbody>\n",
       "    <tr>\n",
       "      <th>0</th>\n",
       "      <td>[0, 33, 106.91, 89.74, 104.345, 1.191330510363...</td>\n",
       "      <td>0</td>\n",
       "    </tr>\n",
       "    <tr>\n",
       "      <th>1</th>\n",
       "      <td>[1, 23, 104.53, 47.49, 66.28, 2.20109496736155...</td>\n",
       "      <td>1</td>\n",
       "    </tr>\n",
       "    <tr>\n",
       "      <th>2</th>\n",
       "      <td>[0, 55, 212.26, 200.91, 213.70499999999998, 0, 0]</td>\n",
       "      <td>0</td>\n",
       "    </tr>\n",
       "    <tr>\n",
       "      <th>3</th>\n",
       "      <td>[0, 34, 167.2, 157.05, 172.62, 0.9686015525431...</td>\n",
       "      <td>0</td>\n",
       "    </tr>\n",
       "    <tr>\n",
       "      <th>4</th>\n",
       "      <td>[1, 68, 160.33, 159.19, 174.805, 1.00716125384...</td>\n",
       "      <td>0</td>\n",
       "    </tr>\n",
       "    <tr>\n",
       "      <th>...</th>\n",
       "      <td>...</td>\n",
       "      <td>...</td>\n",
       "    </tr>\n",
       "    <tr>\n",
       "      <th>7397</th>\n",
       "      <td>[1, 35, 95.48, 95.48, 111.68, 1.0, -32.3999999...</td>\n",
       "      <td>0</td>\n",
       "    </tr>\n",
       "    <tr>\n",
       "      <th>7398</th>\n",
       "      <td>[0, 61, 109.99, 109.99, 109.99, 1.0, 0]</td>\n",
       "      <td>0</td>\n",
       "    </tr>\n",
       "    <tr>\n",
       "      <th>7399</th>\n",
       "      <td>[0, 61, 97.03, 97.03, 104.055, 1.0, -14.049999...</td>\n",
       "      <td>0</td>\n",
       "    </tr>\n",
       "    <tr>\n",
       "      <th>7400</th>\n",
       "      <td>[0, 1, 132.11, 132.11, 132.11, 1.0, 0]</td>\n",
       "      <td>0</td>\n",
       "    </tr>\n",
       "    <tr>\n",
       "      <th>7401</th>\n",
       "      <td>[0, 35, 121.93, 121.93, 121.93, 1.0, 0]</td>\n",
       "      <td>0</td>\n",
       "    </tr>\n",
       "  </tbody>\n",
       "</table>\n",
       "<p>7402 rows × 2 columns</p>\n",
       "</div>"
      ],
      "text/plain": [
       "                                       patient_features  aki_score\n",
       "0     [0, 33, 106.91, 89.74, 104.345, 1.191330510363...          0\n",
       "1     [1, 23, 104.53, 47.49, 66.28, 2.20109496736155...          1\n",
       "2     [0, 55, 212.26, 200.91, 213.70499999999998, 0, 0]          0\n",
       "3     [0, 34, 167.2, 157.05, 172.62, 0.9686015525431...          0\n",
       "4     [1, 68, 160.33, 159.19, 174.805, 1.00716125384...          0\n",
       "...                                                 ...        ...\n",
       "7397  [1, 35, 95.48, 95.48, 111.68, 1.0, -32.3999999...          0\n",
       "7398            [0, 61, 109.99, 109.99, 109.99, 1.0, 0]          0\n",
       "7399  [0, 61, 97.03, 97.03, 104.055, 1.0, -14.049999...          0\n",
       "7400             [0, 1, 132.11, 132.11, 132.11, 1.0, 0]          0\n",
       "7401            [0, 35, 121.93, 121.93, 121.93, 1.0, 0]          0\n",
       "\n",
       "[7402 rows x 2 columns]"
      ]
     },
     "execution_count": 58,
     "metadata": {},
     "output_type": "execute_result"
    }
   ],
   "source": [
    "# Test Dataset Prediction\n",
    "test_data = prepare_dataset('data/test.csv', 'train')\n",
    "# [sex, age, c1, rv1, rv2, rv_ratio, creatinine_change]\n",
    "# test_data.rename(columns={'1': 'sex'}, inplace=True)\n",
    "test_data"
   ]
  },
  {
   "cell_type": "code",
   "execution_count": 63,
   "metadata": {},
   "outputs": [
    {
     "data": {
      "text/plain": [
       "0.936411149825784"
      ]
     },
     "execution_count": 63,
     "metadata": {},
     "output_type": "execute_result"
    }
   ],
   "source": [
    "# 5.d NHS Test Dataset Prediction \n",
    "nhs_test_aki = test_data['patient_features'].apply(lambda patient_record: nhs_aki_algo(patient_record))\n",
    "nhs_f3 = fbeta_score(test_data['aki_score'], nhs_test_aki, beta=3)\n",
    "nhs_f3"
   ]
  },
  {
   "cell_type": "code",
   "execution_count": 64,
   "metadata": {},
   "outputs": [
    {
     "name": "stdout",
     "output_type": "stream",
     "text": [
      "0\n",
      "2\n",
      "4\n",
      "6\n"
     ]
    }
   ],
   "source": [
    "a=[0,1,2,3,4,5,6]\n",
    "for n in a[::2]:\n",
    "    print(n)"
   ]
  },
  {
   "cell_type": "code",
   "execution_count": 62,
   "metadata": {},
   "outputs": [
    {
     "data": {
      "image/png": "[encoded data removed]",
      "text/plain": [
       "<Figure size 640x480 with 1 Axes>"
      ]
     },
     "metadata": {},
     "output_type": "display_data"
    }
   ],
   "source": [
    "# 5.d Plot Test Prediction Accuracy\n",
    "plot_accuracy(nhs_test_aki, test_data['aki_score'], 'NHS', nhs_f3)"
   ]
  }
 ],
 "metadata": {
  "kernelspec": {
   "display_name": "Python 3",
   "language": "python",
   "name": "python3"
  },
  "language_info": {
   "codemirror_mode": {
    "name": "ipython",
    "version": 3
   },
   "file_extension": ".py",
   "mimetype": "text/x-python",
   "name": "python",
   "nbconvert_exporter": "python",
   "pygments_lexer": "ipython3",
   "version": "3.12.1"
  }
 },
 "nbformat": 4,
 "nbformat_minor": 2
}
